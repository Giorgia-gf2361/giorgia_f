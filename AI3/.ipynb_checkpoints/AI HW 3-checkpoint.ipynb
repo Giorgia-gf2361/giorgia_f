{
 "cells": [
  {
   "cell_type": "code",
   "execution_count": 1,
   "metadata": {},
   "outputs": [
    {
     "name": "stdout",
     "output_type": "stream",
     "text": [
      "Populating the interactive namespace from numpy and matplotlib\n"
     ]
    }
   ],
   "source": [
    "%pylab inline"
   ]
  },
  {
   "cell_type": "code",
   "execution_count": 2,
   "metadata": {},
   "outputs": [],
   "source": [
    "def get_box(key):\n",
    "    for r_idx, r in enumerate(ROW):\n",
    "        for c_idx, c in enumerate(COL):\n",
    "            if (key[0] == r) and (key[-1] == c):    \n",
    "                return boxes[r_idx][c_idx]\n",
    "\n",
    "def check_cols(n, col, board):\n",
    "    for key in board.keys():\n",
    "        if key[-1] == col:\n",
    "            if board[key] == n:\n",
    "                return False\n",
    "    return True\n",
    "\n",
    "def check_rows(n, row, board):\n",
    "    for key in board.keys():\n",
    "        if key[0] == row:\n",
    "            if board[key] == n:\n",
    "                return False\n",
    "    return True\n",
    "\n",
    "def check_box(n, box):\n",
    "    global box_to_vals\n",
    "    if n in box_to_vals[box]:\n",
    "        return False\n",
    "    return True\n",
    "    "
   ]
  },
  {
   "cell_type": "code",
   "execution_count": 3,
   "metadata": {},
   "outputs": [],
   "source": [
    "def is_legal(n, coord, board):\n",
    "    return (check_cols(n, coord[-1], board) and check_rows(n, coord[0], board) and check_box(n, get_box(coord)) and (n>0) and (n<10))"
   ]
  },
  {
   "cell_type": "code",
   "execution_count": 5,
   "metadata": {},
   "outputs": [],
   "source": [
    "def is_complete(board):\n",
    "    return (not 0 in board.values())\n",
    "\n",
    "def all_legal_vals(coord, board):\n",
    "    legal_vals = []\n",
    "    for n in range(1,10):\n",
    "        if is_legal(n, coord, board):\n",
    "            legal_vals.append(n)\n",
    "    return legal_vals\n",
    "\n",
    "def get_mrv(open_coords, board):\n",
    "    \"\"\"\n",
    "    Returns the unfilled box coordinate (coord) with minimum remaining [legal] values (MRV) \n",
    "    and the corresponding values (available domain)\n",
    "    \"\"\"\n",
    "    #Could this be improved?\n",
    "    possible_moves = [(all_legal_vals(coord, board), coord) for coord in open_coords]\n",
    "    n_moves_per_box = [len(moves[0]) for moves in possible_moves]\n",
    "    idx = np.argmin(n_moves_per_box)\n",
    "    return open_coords[idx], possible_moves[idx][0]\n",
    "\n",
    "\n",
    "def solve_mrv(board):\n",
    "    \n",
    "    b = board.copy()\n",
    "    \n",
    "    if is_complete(b):\n",
    "        return b\n",
    "    \n",
    "    '''\n",
    "    get coordinates of available spaces to fill\n",
    "    '''\n",
    "    open_moves = [key for key,value in b.items() if value==0]\n",
    "    \n",
    "    coord, vals = get_mrv(open_moves, b)\n",
    "    \n",
    "    for value in vals:\n",
    "        b[coord] = value\n",
    "        result = solve_mrv(b)\n",
    "        if result:\n",
    "            return result\n",
    "        else:\n",
    "            b[coord] = 0\n",
    "    return False"
   ]
  },
  {
   "cell_type": "code",
   "execution_count": 9,
   "metadata": {},
   "outputs": [],
   "source": [
    "ROW = \"ABCDEFGHI\"\n",
    "COL = \"123456789\"\n",
    "\n",
    "def to_np(inp):\n",
    "    bd = np.array(list(inp.values())).reshape((9,9))\n",
    "    return bd\n",
    "\n",
    "def to_dict(line):\n",
    "    global ROW\n",
    "    global COL\n",
    "    return {ROW[r] + COL[c]: int(line[9*r+c]) for r in range(9) for c in range(9)}\n",
    "\n",
    "sudokus = []\n",
    "with open('starter/sudokus_start.txt', 'r+') as f:\n",
    "    sudokus = [to_dict(i.strip()) for i in f.readlines()]"
   ]
  },
  {
   "cell_type": "code",
   "execution_count": 7,
   "metadata": {},
   "outputs": [
    {
     "name": "stderr",
     "output_type": "stream",
     "text": [
      "2it [00:00,  7.96it/s]"
     ]
    },
    {
     "name": "stdout",
     "output_type": "stream",
     "text": [
      "[[4 8 3 9 2 1 6 5 7]\n",
      " [9 6 7 3 4 5 8 2 1]\n",
      " [2 5 1 8 7 6 4 9 3]\n",
      " [5 4 8 1 3 2 9 7 6]\n",
      " [7 2 9 5 6 4 1 3 8]\n",
      " [1 3 6 7 9 8 2 4 5]\n",
      " [3 7 2 6 8 9 5 1 4]\n",
      " [8 1 4 2 5 3 7 6 9]\n",
      " [6 9 5 4 1 7 3 8 2]]\n",
      "0.1608591079711914 sec\n",
      "[[4 3 5 2 6 9 7 8 1]\n",
      " [6 8 2 5 7 1 4 9 3]\n",
      " [1 9 7 8 3 4 5 6 2]\n",
      " [8 2 6 1 9 5 3 4 7]\n",
      " [3 7 4 6 8 2 9 1 5]\n",
      " [9 5 1 7 4 3 6 2 8]\n",
      " [5 1 9 3 2 6 8 7 4]\n",
      " [2 4 8 9 5 7 1 3 6]\n",
      " [7 6 3 4 1 8 2 5 9]]\n",
      "0.0867319107055664 sec\n"
     ]
    },
    {
     "name": "stderr",
     "output_type": "stream",
     "text": [
      "\n"
     ]
    }
   ],
   "source": [
    "import time\n",
    "from tqdm import tqdm\n",
    "\n",
    "#number of boards you could solve from sudokus start.txt,\n",
    "#running time statistics: min, max, mean, and standard deviation.\n",
    "\n",
    "boxes = [[(i//3,j//3) for i in range(9)] for j in range(9)]\n",
    "box_to_vals = dict()\n",
    "solution_data = dict()\n",
    "\n",
    "for idx, board in tqdm(enumerate(sudokus[:2])):\n",
    "    #Reset pertinent globals:\n",
    "    box_to_vals = dict()\n",
    "\n",
    "    #board = sudokus[16]\n",
    "    \n",
    "    #Prep grid reference:\n",
    "    for key in board.keys():\n",
    "        val = board[key]\n",
    "        box = get_box(key)\n",
    "        if box_to_vals.get(box):\n",
    "            box_to_vals[box].append(val)\n",
    "        else:\n",
    "            box_to_vals[box] = [val]\n",
    "\n",
    "    start = time.time()\n",
    "    solution = solve_mrv(board)\n",
    "    end = time.time()\n",
    "\n",
    "    time_to_solve = end-start\n",
    "\n",
    "    solution_data[idx] = {'solution':solution, 'time':time_to_solve}\n",
    "\n",
    "    if solution:\n",
    "        print(to_np(solution))\n",
    "    else:\n",
    "        print('No solution found.')\n",
    "\n",
    "    print(f'{(time_to_solve)} sec')\n"
   ]
  },
  {
   "cell_type": "code",
   "execution_count": 49,
   "metadata": {},
   "outputs": [],
   "source": [
    "def get_box(key):\n",
    "    '''\n",
    "    \n",
    "    '''\n",
    "    \n",
    "    for r_idx, r in enumerate(ROW):\n",
    "        for c_idx, c in enumerate(COL):\n",
    "            if (key[0] == r) and (key[-1] == c):    \n",
    "                return boxes[r_idx][c_idx]\n",
    "            \n",
    "            \n",
    "def check_cols_np(n, col, board):\n",
    "    return (not np.any(board[:,col]==n))"
   ]
  },
  {
   "cell_type": "code",
   "execution_count": 50,
   "metadata": {},
   "outputs": [
    {
     "data": {
      "text/plain": [
       "array([[0, 0, 2, 0, 4, 6, 0, 0, 0],\n",
       "       [0, 0, 4, 0, 8, 0, 0, 0, 5],\n",
       "       [0, 7, 0, 0, 3, 0, 0, 0, 9],\n",
       "       [0, 0, 0, 0, 0, 2, 0, 0, 0],\n",
       "       [3, 0, 5, 7, 0, 0, 0, 0, 0],\n",
       "       [7, 0, 0, 0, 0, 0, 4, 0, 0],\n",
       "       [0, 0, 6, 0, 0, 0, 0, 9, 3],\n",
       "       [0, 0, 0, 0, 5, 4, 0, 7, 8],\n",
       "       [0, 0, 0, 0, 0, 0, 0, 0, 0]])"
      ]
     },
     "execution_count": 50,
     "metadata": {},
     "output_type": "execute_result"
    }
   ],
   "source": [
    "arr = to_np(sudokus[16])\n",
    "arr"
   ]
  },
  {
   "cell_type": "code",
   "execution_count": 57,
   "metadata": {},
   "outputs": [
    {
     "data": {
      "text/plain": [
       "(array([0, 0, 0, 0, 0, 0, 1, 1, 1, 1, 1, 1, 2, 2, 2, 2, 2, 2, 3, 3, 3, 3,\n",
       "        3, 3, 3, 3, 4, 4, 4, 4, 4, 4, 5, 5, 5, 5, 5, 5, 5, 6, 6, 6, 6, 6,\n",
       "        6, 7, 7, 7, 7, 7, 8, 8, 8, 8, 8, 8, 8, 8, 8]),\n",
       " array([0, 1, 3, 6, 7, 8, 0, 1, 3, 5, 6, 7, 0, 2, 3, 5, 6, 7, 0, 1, 2, 3,\n",
       "        4, 6, 7, 8, 1, 4, 5, 6, 7, 8, 1, 2, 3, 4, 5, 7, 8, 0, 1, 3, 4, 5,\n",
       "        6, 0, 1, 2, 3, 6, 0, 1, 2, 3, 4, 5, 6, 7, 8]))"
      ]
     },
     "execution_count": 57,
     "metadata": {},
     "output_type": "execute_result"
    }
   ],
   "source": [
    "np.where(arr==0)"
   ]
  },
  {
   "cell_type": "code",
   "execution_count": null,
   "metadata": {},
   "outputs": [],
   "source": []
  },
  {
   "cell_type": "code",
   "execution_count": null,
   "metadata": {},
   "outputs": [],
   "source": []
  }
 ],
 "metadata": {
  "kernelspec": {
   "display_name": "Python 3",
   "language": "python",
   "name": "python3"
  },
  "language_info": {
   "codemirror_mode": {
    "name": "ipython",
    "version": 3
   },
   "file_extension": ".py",
   "mimetype": "text/x-python",
   "name": "python",
   "nbconvert_exporter": "python",
   "pygments_lexer": "ipython3",
   "version": "3.7.3"
  }
 },
 "nbformat": 4,
 "nbformat_minor": 4
}
