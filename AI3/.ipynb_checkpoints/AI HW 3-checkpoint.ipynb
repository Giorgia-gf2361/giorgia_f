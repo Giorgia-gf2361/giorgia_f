{
 "cells": [
  {
   "cell_type": "code",
   "execution_count": 95,
   "metadata": {},
   "outputs": [
    {
     "name": "stdout",
     "output_type": "stream",
     "text": [
      "Populating the interactive namespace from numpy and matplotlib\n",
      "{'A1': 0, 'A2': 0, 'A3': 3, 'A4': 0, 'A5': 2, 'A6': 0, 'A7': 6, 'A8': 0, 'A9': 0, 'B1': 9, 'B2': 0, 'B3': 0, 'B4': 3, 'B5': 0, 'B6': 5, 'B7': 0, 'B8': 0, 'B9': 1, 'C1': 0, 'C2': 0, 'C3': 1, 'C4': 8, 'C5': 0, 'C6': 6, 'C7': 4, 'C8': 0, 'C9': 0, 'D1': 0, 'D2': 0, 'D3': 8, 'D4': 1, 'D5': 0, 'D6': 2, 'D7': 9, 'D8': 0, 'D9': 0, 'E1': 7, 'E2': 0, 'E3': 0, 'E4': 0, 'E5': 0, 'E6': 0, 'E7': 0, 'E8': 0, 'E9': 8, 'F1': 0, 'F2': 0, 'F3': 6, 'F4': 7, 'F5': 0, 'F6': 8, 'F7': 2, 'F8': 0, 'F9': 0, 'G1': 0, 'G2': 0, 'G3': 2, 'G4': 6, 'G5': 0, 'G6': 9, 'G7': 5, 'G8': 0, 'G9': 0, 'H1': 8, 'H2': 0, 'H3': 0, 'H4': 2, 'H5': 0, 'H6': 3, 'H7': 0, 'H8': 0, 'H9': 9, 'I1': 0, 'I2': 0, 'I3': 5, 'I4': 0, 'I5': 1, 'I6': 0, 'I7': 3, 'I8': 0, 'I9': 0}\n"
     ]
    }
   ],
   "source": [
    "%pylab inline\n",
    "\n",
    "ROW = \"ABCDEFGHI\"\n",
    "COL = \"123456789\"\n",
    "\n",
    "line = \"003020600900305001001806400008102900700000008006708200002609500800203009005010300\"\n",
    "\n",
    "board = {ROW[r] + COL[c]: int(line[9*r+c])\n",
    "                  for r in range(9) for c in range(9)}\n",
    "\n",
    "print(board)"
   ]
  },
  {
   "cell_type": "code",
   "execution_count": 96,
   "metadata": {},
   "outputs": [],
   "source": [
    "def get_box(key):\n",
    "    for r_idx, r in enumerate(ROW):\n",
    "        for c_idx, c in enumerate(COL):\n",
    "            if (key[0] == r) and (key[-1] == c):    \n",
    "                return boxes[r_idx][c_idx]\n",
    "\n",
    "def check_cols(n, col, board):\n",
    "    for key in board.keys():\n",
    "        if key[-1] == col:\n",
    "            if board[key] == n:\n",
    "                return False\n",
    "    return True\n",
    "\n",
    "def check_rows(n, row, board):\n",
    "    for key in board.keys():\n",
    "        if key[0] == row:\n",
    "            if board[key] == n:\n",
    "                return False\n",
    "    return True\n",
    "\n",
    "def check_box(n, box):\n",
    "    global box_to_vals\n",
    "    if n in box_to_vals[box]:\n",
    "        return False\n",
    "    return True\n",
    "    "
   ]
  },
  {
   "cell_type": "code",
   "execution_count": 97,
   "metadata": {},
   "outputs": [],
   "source": [
    "boxes = [[(i//3,j//3) for i in range(9)] for j in range(9)]\n",
    "box_to_vals = dict()\n",
    "for key in board.keys():\n",
    "    val = board[key]\n",
    "    box = get_box(key)\n",
    "\n",
    "    if box_to_vals.get(box):\n",
    "        box_to_vals[box].append(val)\n",
    "    else:\n",
    "        box_to_vals[box] = [val]"
   ]
  },
  {
   "cell_type": "code",
   "execution_count": 99,
   "metadata": {},
   "outputs": [],
   "source": [
    "def is_legal(n, coord, board):\n",
    "    return (check_cols(n, coord[-1], board) and check_rows(n, coord[0], board) and check_box(n, get_box(coord)))"
   ]
  },
  {
   "cell_type": "code",
   "execution_count": 129,
   "metadata": {},
   "outputs": [],
   "source": [
    "def solve(board):\n",
    "    b = board.copy()\n",
    "    if not 0 in b.values():\n",
    "        return b\n",
    "    for r in ROW:\n",
    "        for c in COL:\n",
    "            if b[r+c] == 0:\n",
    "                for n in range(1,10):\n",
    "                    if is_legal(n, r+c, b):\n",
    "                        b[r+c] = n\n",
    "                        result = solve(b)\n",
    "                        if result != 'failure':\n",
    "                            return result\n",
    "                        b[r+c] = 0\n",
    "                return 'failure'\n",
    "            \n",
    "        "
   ]
  },
  {
   "cell_type": "code",
   "execution_count": 116,
   "metadata": {},
   "outputs": [
    {
     "name": "stdout",
     "output_type": "stream",
     "text": [
      "{'A1': 4, 'A2': 8, 'A3': 3, 'A4': 9, 'A5': 2, 'A6': 1, 'A7': 6, 'A8': 5, 'A9': 7, 'B1': 9, 'B2': 6, 'B3': 7, 'B4': 3, 'B5': 4, 'B6': 5, 'B7': 8, 'B8': 2, 'B9': 1, 'C1': 2, 'C2': 5, 'C3': 1, 'C4': 8, 'C5': 7, 'C6': 6, 'C7': 4, 'C8': 9, 'C9': 3, 'D1': 5, 'D2': 4, 'D3': 8, 'D4': 1, 'D5': 3, 'D6': 2, 'D7': 9, 'D8': 7, 'D9': 6, 'E1': 7, 'E2': 2, 'E3': 9, 'E4': 5, 'E5': 6, 'E6': 4, 'E7': 1, 'E8': 3, 'E9': 8, 'F1': 1, 'F2': 3, 'F3': 6, 'F4': 7, 'F5': 9, 'F6': 8, 'F7': 2, 'F8': 4, 'F9': 5, 'G1': 3, 'G2': 7, 'G3': 2, 'G4': 6, 'G5': 8, 'G6': 9, 'G7': 5, 'G8': 1, 'G9': 4, 'H1': 8, 'H2': 1, 'H3': 4, 'H4': 2, 'H5': 5, 'H6': 3, 'H7': 7, 'H8': 6, 'H9': 9, 'I1': 6, 'I2': 9, 'I3': 5, 'I4': 4, 'I5': 1, 'I6': 7, 'I7': 3, 'I8': 8, 'I9': 2}\n",
      "{'A1': 0, 'A2': 0, 'A3': 3, 'A4': 0, 'A5': 2, 'A6': 0, 'A7': 6, 'A8': 0, 'A9': 0, 'B1': 9, 'B2': 0, 'B3': 0, 'B4': 3, 'B5': 0, 'B6': 5, 'B7': 0, 'B8': 0, 'B9': 1, 'C1': 0, 'C2': 0, 'C3': 1, 'C4': 8, 'C5': 0, 'C6': 6, 'C7': 4, 'C8': 0, 'C9': 0, 'D1': 0, 'D2': 0, 'D3': 8, 'D4': 1, 'D5': 0, 'D6': 2, 'D7': 9, 'D8': 0, 'D9': 0, 'E1': 7, 'E2': 0, 'E3': 0, 'E4': 0, 'E5': 0, 'E6': 0, 'E7': 0, 'E8': 0, 'E9': 8, 'F1': 0, 'F2': 0, 'F3': 6, 'F4': 7, 'F5': 0, 'F6': 8, 'F7': 2, 'F8': 0, 'F9': 0, 'G1': 0, 'G2': 0, 'G3': 2, 'G4': 6, 'G5': 0, 'G6': 9, 'G7': 5, 'G8': 0, 'G9': 0, 'H1': 8, 'H2': 0, 'H3': 0, 'H4': 2, 'H5': 0, 'H6': 3, 'H7': 0, 'H8': 0, 'H9': 9, 'I1': 0, 'I2': 0, 'I3': 5, 'I4': 0, 'I5': 1, 'I6': 0, 'I7': 3, 'I8': 0, 'I9': 0}\n"
     ]
    }
   ],
   "source": [
    "res = solve(board)\n",
    "print(res)\n",
    "print(board)"
   ]
  },
  {
   "cell_type": "code",
   "execution_count": 117,
   "metadata": {},
   "outputs": [],
   "source": [
    "def show_board(inp):\n",
    "    print(np.array(list(inp.values())).reshape((9,9)))"
   ]
  },
  {
   "cell_type": "code",
   "execution_count": 118,
   "metadata": {},
   "outputs": [
    {
     "name": "stdout",
     "output_type": "stream",
     "text": [
      "[[4 8 3 9 2 1 6 5 7]\n",
      " [9 6 7 3 4 5 8 2 1]\n",
      " [2 5 1 8 7 6 4 9 3]\n",
      " [5 4 8 1 3 2 9 7 6]\n",
      " [7 2 9 5 6 4 1 3 8]\n",
      " [1 3 6 7 9 8 2 4 5]\n",
      " [3 7 2 6 8 9 5 1 4]\n",
      " [8 1 4 2 5 3 7 6 9]\n",
      " [6 9 5 4 1 7 3 8 2]]\n"
     ]
    }
   ],
   "source": [
    "show_board(res)"
   ]
  },
  {
   "cell_type": "code",
   "execution_count": 119,
   "metadata": {},
   "outputs": [],
   "source": [
    "coord = 'E5'\n",
    "\n",
    "def all_legal_vals(coord, board):\n",
    "    legal_vals = []\n",
    "    for n in range(1,10):\n",
    "        if is_legal(n, coord, board):\n",
    "            legal_vals.append(n)\n",
    "    return legal_vals"
   ]
  },
  {
   "cell_type": "code",
   "execution_count": 127,
   "metadata": {},
   "outputs": [],
   "source": [
    "def mrv(board):\n",
    "    vals = [(all_legal_vals(coord, board), coord) for coord in board.keys()]\n",
    "    vals = [i for i in vals if len(i[0])>0]\n",
    "    vals.sort(key = lambda x : len(x[0]))\n",
    "    if vals:\n",
    "        mrv_coord = vals[0][1]\n",
    "        mrv_vals = vals[0][0]\n",
    "        return (mrv_coord, mrv_vals)"
   ]
  },
  {
   "cell_type": "code",
   "execution_count": 128,
   "metadata": {},
   "outputs": [
    {
     "data": {
      "text/plain": [
       "('B4', [4])"
      ]
     },
     "execution_count": 128,
     "metadata": {},
     "output_type": "execute_result"
    }
   ],
   "source": [
    "mrv(board)"
   ]
  },
  {
   "cell_type": "code",
   "execution_count": 136,
   "metadata": {},
   "outputs": [],
   "source": [
    "calls = 0\n",
    "def solve_mrv(board):\n",
    "    global calls\n",
    "    calls += 1\n",
    "    b = board.copy()\n",
    "    if not 0 in b.values():\n",
    "        return b\n",
    "    coord, vals = mrv(b)\n",
    "    print(calls, coord, vals)\n",
    "    for n in vals:\n",
    "        b[coord] = n      \n",
    "        result = solve(b)\n",
    "        if result != 'failure':\n",
    "            return result\n",
    "        b[coord] = 0\n",
    "    return 'failure'\n",
    "            "
   ]
  },
  {
   "cell_type": "code",
   "execution_count": 137,
   "metadata": {},
   "outputs": [
    {
     "name": "stdout",
     "output_type": "stream",
     "text": [
      "1 B4 [4]\n"
     ]
    },
    {
     "data": {
      "text/plain": [
       "'failure'"
      ]
     },
     "execution_count": 137,
     "metadata": {},
     "output_type": "execute_result"
    }
   ],
   "source": [
    "solve_mrv(board)"
   ]
  },
  {
   "cell_type": "code",
   "execution_count": null,
   "metadata": {},
   "outputs": [],
   "source": []
  }
 ],
 "metadata": {
  "kernelspec": {
   "display_name": "Python 3",
   "language": "python",
   "name": "python3"
  },
  "language_info": {
   "codemirror_mode": {
    "name": "ipython",
    "version": 3
   },
   "file_extension": ".py",
   "mimetype": "text/x-python",
   "name": "python",
   "nbconvert_exporter": "python",
   "pygments_lexer": "ipython3",
   "version": "3.7.3"
  }
 },
 "nbformat": 4,
 "nbformat_minor": 4
}
