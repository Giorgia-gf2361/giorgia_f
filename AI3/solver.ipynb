{
 "cells": [
  {
   "cell_type": "code",
   "execution_count": 1,
   "metadata": {},
   "outputs": [
    {
     "name": "stdout",
     "output_type": "stream",
     "text": [
      "Populating the interactive namespace from numpy and matplotlib\n"
     ]
    }
   ],
   "source": [
    "%pylab inline"
   ]
  },
  {
   "cell_type": "code",
   "execution_count": 2,
   "metadata": {},
   "outputs": [],
   "source": [
    "res = ''\n",
    "with open('./starter/sudokus_start.txt', 'r+') as f:\n",
    "    res += f.read()"
   ]
  },
  {
   "cell_type": "code",
   "execution_count": 9,
   "metadata": {},
   "outputs": [],
   "source": [
    "sudokus = np.array([[int(j) for j in i] for i in res.split()])"
   ]
  },
  {
   "cell_type": "code",
   "execution_count": 14,
   "metadata": {},
   "outputs": [
    {
     "name": "stdout",
     "output_type": "stream",
     "text": [
      "[[0 0 3 0 2 0 6 0 0]\n",
      " [9 0 0 3 0 5 0 0 1]\n",
      " [0 0 1 8 0 6 4 0 0]\n",
      " [0 0 8 1 0 2 9 0 0]\n",
      " [7 0 0 0 0 0 0 0 8]\n",
      " [0 0 6 7 0 8 2 0 0]\n",
      " [0 0 2 6 0 9 5 0 0]\n",
      " [8 0 0 2 0 3 0 0 9]\n",
      " [0 0 5 0 1 0 3 0 0]]\n"
     ]
    }
   ],
   "source": [
    "s = sudokus[0].reshape((9,9))\n",
    "print(s)"
   ]
  },
  {
   "cell_type": "code",
   "execution_count": 13,
   "metadata": {},
   "outputs": [
    {
     "data": {
      "text/plain": [
       "6"
      ]
     },
     "execution_count": 13,
     "metadata": {},
     "output_type": "execute_result"
    }
   ],
   "source": [
    "n = 3\n",
    "i = 5\n",
    "j = 2\n",
    "\n",
    "s[i,j]"
   ]
  },
  {
   "cell_type": "code",
   "execution_count": 15,
   "metadata": {},
   "outputs": [
    {
     "data": {
      "text/plain": [
       "array([3, 0, 1, 8, 0, 6, 2, 0, 5])"
      ]
     },
     "execution_count": 15,
     "metadata": {},
     "output_type": "execute_result"
    }
   ],
   "source": [
    "col -> s[:,j] "
   ]
  },
  {
   "cell_type": "code",
   "execution_count": 16,
   "metadata": {},
   "outputs": [
    {
     "data": {
      "text/plain": [
       "array([0, 0, 6, 7, 0, 8, 2, 0, 0])"
      ]
     },
     "execution_count": 16,
     "metadata": {},
     "output_type": "execute_result"
    }
   ],
   "source": [
    "row -> s[i,:]"
   ]
  },
  {
   "cell_type": "code",
   "execution_count": 19,
   "metadata": {},
   "outputs": [
    {
     "data": {
      "text/plain": [
       "[[(0, 0), (0, 0), (0, 0), (1, 0), (1, 0), (1, 0), (2, 0), (2, 0), (2, 0)],\n",
       " [(0, 0), (0, 0), (0, 0), (1, 0), (1, 0), (1, 0), (2, 0), (2, 0), (2, 0)],\n",
       " [(0, 0), (0, 0), (0, 0), (1, 0), (1, 0), (1, 0), (2, 0), (2, 0), (2, 0)],\n",
       " [(0, 1), (0, 1), (0, 1), (1, 1), (1, 1), (1, 1), (2, 1), (2, 1), (2, 1)],\n",
       " [(0, 1), (0, 1), (0, 1), (1, 1), (1, 1), (1, 1), (2, 1), (2, 1), (2, 1)],\n",
       " [(0, 1), (0, 1), (0, 1), (1, 1), (1, 1), (1, 1), (2, 1), (2, 1), (2, 1)],\n",
       " [(0, 2), (0, 2), (0, 2), (1, 2), (1, 2), (1, 2), (2, 2), (2, 2), (2, 2)],\n",
       " [(0, 2), (0, 2), (0, 2), (1, 2), (1, 2), (1, 2), (2, 2), (2, 2), (2, 2)],\n",
       " [(0, 2), (0, 2), (0, 2), (1, 2), (1, 2), (1, 2), (2, 2), (2, 2), (2, 2)]]"
      ]
     },
     "execution_count": 19,
     "metadata": {},
     "output_type": "execute_result"
    }
   ],
   "source": [
    "\n",
    "[[(j//3, i//3) for j in range(9)] for i in range(9)]"
   ]
  },
  {
   "cell_type": "code",
   "execution_count": null,
   "metadata": {},
   "outputs": [],
   "source": []
  }
 ],
 "metadata": {
  "kernelspec": {
   "display_name": "PyCharm (student_gui)",
   "language": "python",
   "name": "pycharm-d7feb79a"
  },
  "language_info": {
   "codemirror_mode": {
    "name": "ipython",
    "version": 3
   },
   "file_extension": ".py",
   "mimetype": "text/x-python",
   "name": "python",
   "nbconvert_exporter": "python",
   "pygments_lexer": "ipython3",
   "version": "3.7.0"
  }
 },
 "nbformat": 4,
 "nbformat_minor": 4
}
