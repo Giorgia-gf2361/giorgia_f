{
 "cells": [
  {
   "cell_type": "code",
   "execution_count": 1,
   "metadata": {},
   "outputs": [
    {
     "name": "stdout",
     "output_type": "stream",
     "text": [
      "Populating the interactive namespace from numpy and matplotlib\n"
     ]
    }
   ],
   "source": [
    "%pylab inline"
   ]
  },
  {
   "cell_type": "code",
   "execution_count": 2,
   "metadata": {},
   "outputs": [],
   "source": [
    "def get_box(key):\n",
    "    for r_idx, r in enumerate(ROW):\n",
    "        for c_idx, c in enumerate(COL):\n",
    "            if (key[0] == r) and (key[-1] == c):    \n",
    "                return boxes[r_idx][c_idx]\n",
    "\n",
    "def check_cols(n, col, board):\n",
    "    for key in board.keys():\n",
    "        if key[-1] == col:\n",
    "            if board[key] == n:\n",
    "                return False\n",
    "    return True\n",
    "\n",
    "def check_rows(n, row, board):\n",
    "    for key in board.keys():\n",
    "        if key[0] == row:\n",
    "            if board[key] == n:\n",
    "                return False\n",
    "    return True\n",
    "\n",
    "def check_box(n, box):\n",
    "    global box_to_vals\n",
    "    if n in box_to_vals[box]:\n",
    "        return False\n",
    "    return True\n",
    "    "
   ]
  },
  {
   "cell_type": "code",
   "execution_count": 3,
   "metadata": {},
   "outputs": [],
   "source": [
    "def is_legal(n, coord, board):\n",
    "    return (check_cols(n, coord[-1], board) and check_rows(n, coord[0], board) and check_box(n, get_box(coord)) and (n>0) and (n<10))"
   ]
  },
  {
   "cell_type": "code",
   "execution_count": 4,
   "metadata": {},
   "outputs": [
    {
     "data": {
      "text/plain": [
       "\"def solve(board):\\n    b = board.copy()\\n    if not 0 in b.values():\\n        return b\\n    for r in ROW:\\n        for c in COL:\\n            if b[r+c] == 0:\\n                for n in range(1,10):\\n                    if is_legal(n, r+c, b):\\n                        b[r+c] = n\\n                        result = solve(b)\\n                        if result != 'failure':\\n                            return result\\n                        b[r+c] = 0\\n                return 'failure'\\n                \\nres = solve(board)\\nprint(res)\\nprint(board)\\n                \\n\""
      ]
     },
     "execution_count": 4,
     "metadata": {},
     "output_type": "execute_result"
    }
   ],
   "source": [
    "'''def solve(board):\n",
    "    b = board.copy()\n",
    "    if not 0 in b.values():\n",
    "        return b\n",
    "    for r in ROW:\n",
    "        for c in COL:\n",
    "            if b[r+c] == 0:\n",
    "                for n in range(1,10):\n",
    "                    if is_legal(n, r+c, b):\n",
    "                        b[r+c] = n\n",
    "                        result = solve(b)\n",
    "                        if result != 'failure':\n",
    "                            return result\n",
    "                        b[r+c] = 0\n",
    "                return 'failure'\n",
    "                \n",
    "res = solve(board)\n",
    "print(res)\n",
    "print(board)\n",
    "                \n",
    "'''"
   ]
  },
  {
   "cell_type": "code",
   "execution_count": null,
   "metadata": {},
   "outputs": [],
   "source": []
  },
  {
   "cell_type": "code",
   "execution_count": 5,
   "metadata": {},
   "outputs": [],
   "source": [
    "def is_complete(board):\n",
    "    return (not 0 in board.values())\n",
    "\n",
    "def all_legal_vals(coord, board):\n",
    "    legal_vals = []\n",
    "    for n in range(1,10):\n",
    "        if is_legal(n, coord, board):\n",
    "            legal_vals.append(n)\n",
    "    return legal_vals\n",
    "\n",
    "def get_mrv(open_coords, board):\n",
    "    \"\"\"\n",
    "    Returns the unfilled box coordinate (coord) with minimum remaining [legal] values (MRV) \n",
    "    and the corresponding values (available domain)\n",
    "    \"\"\"\n",
    "    #Could this be improved?\n",
    "    possible_moves = [(all_legal_vals(coord, board), coord) for coord in open_coords]\n",
    "    n_moves_per_box = [len(moves[0]) for moves in possible_moves]\n",
    "    idx = np.argmin(n_moves_per_box)\n",
    "    return open_coords[idx], possible_moves[idx][0]\n",
    "\n",
    "\n",
    "def solve_mrv(board):\n",
    "    \n",
    "    b = board.copy()\n",
    "    \n",
    "    \"Backtracking search to solve soduku\"\n",
    "    # If soduku is complete return it.\n",
    "    if is_complete(b):\n",
    "        return b\n",
    "    \n",
    "    # Select the MRV variable to fill\n",
    "    '''\n",
    "    get coordinates of available spaces to fill\n",
    "    '''\n",
    "    open_moves = [key for key,value in b.items() if value==0]\n",
    "    \n",
    "    coord, vals = get_mrv(open_moves, b)\n",
    "    \n",
    "    # Fill in a value and solve further (recursively), \n",
    "    # backtracking an assignment when stuck\n",
    "    for value in vals:\n",
    "        b[coord] = value\n",
    "        result = solve_mrv(b)\n",
    "        if result:\n",
    "            return result\n",
    "        else:\n",
    "            b[coord] = 0\n",
    "    return False"
   ]
  },
  {
   "cell_type": "code",
   "execution_count": 6,
   "metadata": {},
   "outputs": [],
   "source": [
    "ROW = \"ABCDEFGHI\"\n",
    "COL = \"123456789\"\n",
    "\n",
    "def to_np(inp):\n",
    "    bd = np.array(list(inp.values())).reshape((9,9))\n",
    "    return bd\n",
    "\n",
    "def to_dict(line):\n",
    "    global ROW\n",
    "    global COL\n",
    "    return {ROW[r] + COL[c]: int(line[9*r+c]) for r in range(9) for c in range(9)}\n",
    "\n",
    "sudokus = []\n",
    "with open('starter/sudokus_start.txt', 'r+') as f:\n",
    "    sudokus = [to_dict(i.strip()) for i in f.readlines()]"
   ]
  },
  {
   "cell_type": "code",
   "execution_count": 7,
   "metadata": {},
   "outputs": [
    {
     "name": "stderr",
     "output_type": "stream",
     "text": [
      "2it [00:00,  7.96it/s]"
     ]
    },
    {
     "name": "stdout",
     "output_type": "stream",
     "text": [
      "[[4 8 3 9 2 1 6 5 7]\n",
      " [9 6 7 3 4 5 8 2 1]\n",
      " [2 5 1 8 7 6 4 9 3]\n",
      " [5 4 8 1 3 2 9 7 6]\n",
      " [7 2 9 5 6 4 1 3 8]\n",
      " [1 3 6 7 9 8 2 4 5]\n",
      " [3 7 2 6 8 9 5 1 4]\n",
      " [8 1 4 2 5 3 7 6 9]\n",
      " [6 9 5 4 1 7 3 8 2]]\n",
      "0.1608591079711914 sec\n",
      "[[4 3 5 2 6 9 7 8 1]\n",
      " [6 8 2 5 7 1 4 9 3]\n",
      " [1 9 7 8 3 4 5 6 2]\n",
      " [8 2 6 1 9 5 3 4 7]\n",
      " [3 7 4 6 8 2 9 1 5]\n",
      " [9 5 1 7 4 3 6 2 8]\n",
      " [5 1 9 3 2 6 8 7 4]\n",
      " [2 4 8 9 5 7 1 3 6]\n",
      " [7 6 3 4 1 8 2 5 9]]\n",
      "0.0867319107055664 sec\n"
     ]
    },
    {
     "name": "stderr",
     "output_type": "stream",
     "text": [
      "\n"
     ]
    }
   ],
   "source": [
    "import time\n",
    "from tqdm import tqdm\n",
    "\n",
    "#number of boards you could solve from sudokus start.txt,\n",
    "#running time statistics: min, max, mean, and standard deviation.\n",
    "\n",
    "boxes = [[(i//3,j//3) for i in range(9)] for j in range(9)]\n",
    "box_to_vals = dict()\n",
    "solution_data = dict()\n",
    "\n",
    "for idx, board in tqdm(enumerate(sudokus[:2])):\n",
    "    #Reset pertinent globals:\n",
    "    box_to_vals = dict()\n",
    "\n",
    "    #board = sudokus[16]\n",
    "    \n",
    "    #Prep grid reference:\n",
    "    for key in board.keys():\n",
    "        val = board[key]\n",
    "        box = get_box(key)\n",
    "        if box_to_vals.get(box):\n",
    "            box_to_vals[box].append(val)\n",
    "        else:\n",
    "            box_to_vals[box] = [val]\n",
    "\n",
    "    start = time.time()\n",
    "    solution = solve_mrv(board)\n",
    "    end = time.time()\n",
    "\n",
    "    time_to_solve = end-start\n",
    "\n",
    "    solution_data[idx] = {'solution':solution, 'time':time_to_solve}\n",
    "\n",
    "    if solution:\n",
    "        print(to_np(solution))\n",
    "    else:\n",
    "        print('No solution found.')\n",
    "\n",
    "    print(f'{(time_to_solve)} sec')\n"
   ]
  },
  {
   "cell_type": "code",
   "execution_count": null,
   "metadata": {},
   "outputs": [],
   "source": []
  },
  {
   "cell_type": "code",
   "execution_count": 18,
   "metadata": {},
   "outputs": [],
   "source": [
    "try:\n",
    "    import cPickle as pickle\n",
    "except ImportError:  # python 3.x\n",
    "    import pickle\n",
    "\n",
    "with open('solns.pickle', 'wb') as fp:\n",
    "    pickle.dump(solution_data, fp, protocol=pickle.HIGHEST_PROTOCOL)\n",
    "\n"
   ]
  },
  {
   "cell_type": "code",
   "execution_count": 19,
   "metadata": {},
   "outputs": [],
   "source": [
    "with open('solns.pickle', 'rb') as fp:\n",
    "    data = pickle.load(fp)"
   ]
  },
  {
   "cell_type": "code",
   "execution_count": 23,
   "metadata": {},
   "outputs": [],
   "source": [
    "times = [v['time'] for k,v in solution_data.items()]"
   ]
  },
  {
   "cell_type": "code",
   "execution_count": 33,
   "metadata": {},
   "outputs": [
    {
     "data": {
      "text/plain": [
       "{'A1': 9,\n",
       " 'A2': 3,\n",
       " 'A3': 2,\n",
       " 'A4': 5,\n",
       " 'A5': 4,\n",
       " 'A6': 6,\n",
       " 'A7': 7,\n",
       " 'A8': 8,\n",
       " 'A9': 1,\n",
       " 'B1': 1,\n",
       " 'B2': 6,\n",
       " 'B3': 4,\n",
       " 'B4': 9,\n",
       " 'B5': 8,\n",
       " 'B6': 7,\n",
       " 'B7': 3,\n",
       " 'B8': 2,\n",
       " 'B9': 5,\n",
       " 'C1': 6,\n",
       " 'C2': 7,\n",
       " 'C3': 1,\n",
       " 'C4': 2,\n",
       " 'C5': 3,\n",
       " 'C6': 5,\n",
       " 'C7': 8,\n",
       " 'C8': 4,\n",
       " 'C9': 9,\n",
       " 'D1': 8,\n",
       " 'D2': 1,\n",
       " 'D3': 9,\n",
       " 'D4': 4,\n",
       " 'D5': 6,\n",
       " 'D6': 2,\n",
       " 'D7': 5,\n",
       " 'D8': 3,\n",
       " 'D9': 7,\n",
       " 'E1': 3,\n",
       " 'E2': 4,\n",
       " 'E3': 5,\n",
       " 'E4': 7,\n",
       " 'E5': 1,\n",
       " 'E6': 8,\n",
       " 'E7': 9,\n",
       " 'E8': 6,\n",
       " 'E9': 2,\n",
       " 'F1': 7,\n",
       " 'F2': 2,\n",
       " 'F3': 8,\n",
       " 'F4': 1,\n",
       " 'F5': 9,\n",
       " 'F6': 3,\n",
       " 'F7': 4,\n",
       " 'F8': 5,\n",
       " 'F9': 6,\n",
       " 'G1': 4,\n",
       " 'G2': 5,\n",
       " 'G3': 6,\n",
       " 'G4': 8,\n",
       " 'G5': 7,\n",
       " 'G6': 1,\n",
       " 'G7': 2,\n",
       " 'G8': 9,\n",
       " 'G9': 3,\n",
       " 'H1': 2,\n",
       " 'H2': 9,\n",
       " 'H3': 3,\n",
       " 'H4': 6,\n",
       " 'H5': 5,\n",
       " 'H6': 4,\n",
       " 'H7': 1,\n",
       " 'H8': 7,\n",
       " 'H9': 8,\n",
       " 'I1': 5,\n",
       " 'I2': 8,\n",
       " 'I3': 7,\n",
       " 'I4': 3,\n",
       " 'I5': 2,\n",
       " 'I6': 9,\n",
       " 'I7': 6,\n",
       " 'I8': 1,\n",
       " 'I9': 4}"
      ]
     },
     "execution_count": 33,
     "metadata": {},
     "output_type": "execute_result"
    }
   ],
   "source": [
    "box_to_vals = dict()\n",
    "\n",
    "board = sudokus[16]\n",
    "\n",
    "#Prep grid reference:\n",
    "for key in board.keys():\n",
    "    val = board[key]\n",
    "    box = get_box(key)\n",
    "    if box_to_vals.get(box):\n",
    "        box_to_vals[box].append(val)\n",
    "    else:\n",
    "        box_to_vals[box] = [val]\n",
    "\n",
    "solve_mrv(board)#to_dict('800000000003600000070090200050007000000045700000100030001000068008500010090000400'))"
   ]
  },
  {
   "cell_type": "code",
   "execution_count": null,
   "metadata": {},
   "outputs": [],
   "source": []
  }
 ],
 "metadata": {
  "kernelspec": {
   "display_name": "Python 3",
   "language": "python",
   "name": "python3"
  },
  "language_info": {
   "codemirror_mode": {
    "name": "ipython",
    "version": 3
   },
   "file_extension": ".py",
   "mimetype": "text/x-python",
   "name": "python",
   "nbconvert_exporter": "python",
   "pygments_lexer": "ipython3",
   "version": "3.7.3"
  }
 },
 "nbformat": 4,
 "nbformat_minor": 4
}
