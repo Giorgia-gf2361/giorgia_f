{
 "cells": [
  {
   "cell_type": "code",
   "execution_count": 6,
   "metadata": {},
   "outputs": [
    {
     "name": "stdout",
     "output_type": "stream",
     "text": [
      "Populating the interactive namespace from numpy and matplotlib\n"
     ]
    },
    {
     "name": "stderr",
     "output_type": "stream",
     "text": [
      "/Library/Frameworks/Python.framework/Versions/3.7/lib/python3.7/site-packages/IPython/core/magics/pylab.py:160: UserWarning: pylab import has clobbered these variables: ['f']\n",
      "`%matplotlib` prevents importing * from pylab and numpy\n",
      "  \"\\n`%matplotlib` prevents importing * from pylab and numpy\"\n"
     ]
    }
   ],
   "source": [
    "%pylab inline\n",
    "import time\n",
    "from tqdm import tqdm"
   ]
  },
  {
   "cell_type": "code",
   "execution_count": 2,
   "metadata": {},
   "outputs": [],
   "source": [
    "def get_box(key):\n",
    "    for r_idx, r in enumerate(ROW):\n",
    "        for c_idx, c in enumerate(COL):\n",
    "            if (key[0] == r) and (key[-1] == c):    \n",
    "                return boxes[r_idx][c_idx]\n",
    "\n",
    "def check_cols(n, col, board):\n",
    "    for key in board.keys():\n",
    "        if key[-1] == col:\n",
    "            if board[key] == n:\n",
    "                return False\n",
    "    return True\n",
    "\n",
    "def check_rows(n, row, board):\n",
    "    for key in board.keys():\n",
    "        if key[0] == row:\n",
    "            if board[key] == n:\n",
    "                return False\n",
    "    return True\n",
    "\n",
    "def check_box(n, box):\n",
    "    global box_to_vals\n",
    "    if n in box_to_vals[box]:\n",
    "        return False\n",
    "    return True\n",
    "    "
   ]
  },
  {
   "cell_type": "code",
   "execution_count": 3,
   "metadata": {},
   "outputs": [],
   "source": [
    "def is_legal(n, coord, board):\n",
    "    \n",
    "    return (check_cols(n, coord[-1], board) and check_rows(n, coord[0], board) \\\n",
    "            and check_box(n, get_box(coord)) and (n>0) and (n<10))\\\n",
    "            and (board[coord]==0)"
   ]
  },
  {
   "cell_type": "code",
   "execution_count": 4,
   "metadata": {},
   "outputs": [],
   "source": [
    "def is_complete(board):\n",
    "    return (not 0 in board.values())\n",
    "\n",
    "def all_legal_vals(coord, board):\n",
    "    legal_vals = []\n",
    "    for n in range(1,10):\n",
    "        if is_legal(n, coord, board):\n",
    "            legal_vals.append(n)\n",
    "    return legal_vals\n",
    "\n",
    "def get_mrv(open_coords, board):\n",
    "    \"\"\"\n",
    "    Returns the unfilled box coordinate (coord) with minimum remaining [legal] values (MRV) \n",
    "    and the corresponding values (available domain)\n",
    "    \"\"\"\n",
    "    #Could this be improved?\n",
    "    possible_moves = [(all_legal_vals(coord, board), coord) for coord in open_coords]\n",
    "    n_moves_per_box = [len(moves[0]) for moves in possible_moves]\n",
    "    idx = np.argmin(n_moves_per_box)\n",
    "    return open_coords[idx], possible_moves[idx][0]\n",
    "\n",
    "def get_mrv_improved():\n",
    "    #Sort list of available moves from global moveset dict.\n",
    "    #return minimum.\n",
    "    to_return = sorted([(len(v), v, k) for k,v in moveset.items() if v])\n",
    "    if to_return:\n",
    "        return to_return[0]\n",
    "    else:\n",
    "        return\n",
    "\n",
    "\n",
    "def solve_mrv(board):\n",
    "    \n",
    "    b = board.copy()\n",
    "    \n",
    "    if is_complete(b):\n",
    "        return b\n",
    "    \n",
    "    '''\n",
    "    get coordinates of available spaces to fill\n",
    "    '''\n",
    "    \n",
    "    _, vals, coord = get_mrv_improved()\n",
    "    print(vals, coord)\n",
    "    \n",
    "    for value in vals:\n",
    "        \n",
    "        b[coord] = value\n",
    "        \n",
    "        old_moveset_values = moveset[coord]\n",
    "        \n",
    "        moveset[coord] = set()\n",
    "        \n",
    "        result = solve_mrv(b)\n",
    "        if result:\n",
    "            return result\n",
    "        else:\n",
    "            b[coord] = 0\n",
    "            moveset[coord] = old_moveset_values\n",
    "    return False"
   ]
  },
  {
   "cell_type": "code",
   "execution_count": null,
   "metadata": {},
   "outputs": [],
   "source": []
  },
  {
   "cell_type": "code",
   "execution_count": 8,
   "metadata": {},
   "outputs": [],
   "source": [
    "ROW = \"ABCDEFGHI\"\n",
    "COL = \"123456789\"\n",
    "\n",
    "def to_np(inp):\n",
    "    bd = np.array(list(inp.values())).reshape((9,9))\n",
    "    return bd\n",
    "\n",
    "def to_dict(line):\n",
    "    global ROW\n",
    "    global COL\n",
    "    return {ROW[r] + COL[c]: int(line[9*r+c]) for r in range(9) for c in range(9)}\n",
    "\n",
    "sudokus = []\n",
    "with open('starter/sudokus_start.txt', 'r+') as f:\n",
    "    sudokus = [to_dict(i.strip()) for i in f.readlines()]\n",
    "    \n",
    "    \n",
    "\n",
    "boxes = [[(i//3,j//3) for i in range(9)] for j in range(9)]\n",
    "box_to_vals = dict()\n",
    "solution_data = dict()"
   ]
  },
  {
   "cell_type": "code",
   "execution_count": 10,
   "metadata": {},
   "outputs": [
    {
     "data": {
      "text/plain": [
       "array([[0, 0, 3, 0, 2, 0, 6, 0, 0],\n",
       "       [9, 0, 0, 3, 0, 5, 0, 0, 1],\n",
       "       [0, 0, 1, 8, 0, 6, 4, 0, 0],\n",
       "       [0, 0, 8, 1, 0, 2, 9, 0, 0],\n",
       "       [7, 0, 0, 0, 0, 0, 0, 0, 8],\n",
       "       [0, 0, 6, 7, 0, 8, 2, 0, 0],\n",
       "       [0, 0, 2, 6, 0, 9, 5, 0, 0],\n",
       "       [8, 0, 0, 2, 0, 3, 0, 0, 9],\n",
       "       [0, 0, 5, 0, 1, 0, 3, 0, 0]])"
      ]
     },
     "execution_count": 10,
     "metadata": {},
     "output_type": "execute_result"
    }
   ],
   "source": [
    "board = sudokus[0]\n",
    "to_np(board)"
   ]
  },
  {
   "cell_type": "code",
   "execution_count": null,
   "metadata": {},
   "outputs": [],
   "source": [
    "all_legal_vals(coord, board)"
   ]
  },
  {
   "cell_type": "code",
   "execution_count": 11,
   "metadata": {},
   "outputs": [
    {
     "name": "stdout",
     "output_type": "stream",
     "text": [
      "[[0 0 3 0 2 0 6 0 0]\n",
      " [9 0 0 3 0 5 0 0 1]\n",
      " [0 0 1 8 0 6 4 0 0]\n",
      " [0 0 8 1 0 2 9 0 0]\n",
      " [7 0 0 0 0 0 0 0 8]\n",
      " [0 0 6 7 0 8 2 0 0]\n",
      " [0 0 2 6 0 9 5 0 0]\n",
      " [8 0 0 2 0 3 0 0 9]\n",
      " [0 0 5 0 1 0 3 0 0]]\n",
      "{'A1': {4, 5}, 'A2': {8, 4, 5, 7}, 'A3': set(), 'A4': {9, 4}, 'A5': set(), 'A6': {1, 4, 7}, 'A7': set(), 'A8': {8, 9, 5, 7}, 'A9': {5, 7}, 'B1': set(), 'B2': {2, 4, 6, 7, 8}, 'B3': {4, 7}, 'B4': set(), 'B5': {4, 7}, 'B6': set(), 'B7': {8, 7}, 'B8': {8, 2, 7}, 'B9': set(), 'C1': {2, 5}, 'C2': {2, 5, 7}, 'C3': set(), 'C4': set(), 'C5': {9, 7}, 'C6': set(), 'C7': set(), 'C8': {2, 3, 5, 7, 9}, 'C9': {2, 3, 5, 7}, 'D1': {3, 4, 5}, 'D2': {3, 4, 5}, 'D3': set(), 'D4': set(), 'D5': {3, 4, 5, 6}, 'D6': set(), 'D7': set(), 'D8': {3, 4, 5, 6, 7}, 'D9': {3, 4, 5, 6, 7}, 'E1': set(), 'E2': {1, 2, 3, 4, 5, 9}, 'E3': {9, 4}, 'E4': {9, 4, 5}, 'E5': {3, 4, 5, 6, 9}, 'E6': {4}, 'E7': {1}, 'E8': {1, 3, 4, 5, 6}, 'E9': set(), 'F1': {1, 3, 4, 5}, 'F2': {1, 3, 4, 5, 9}, 'F3': set(), 'F4': set(), 'F5': {9, 3, 4, 5}, 'F6': set(), 'F7': set(), 'F8': {1, 3, 4, 5}, 'F9': {3, 4, 5}, 'G1': {1, 3, 4}, 'G2': {1, 3, 4, 7}, 'G3': set(), 'G4': set(), 'G5': {8, 4, 7}, 'G6': set(), 'G7': set(), 'G8': {8, 1, 4, 7}, 'G9': {4, 7}, 'H1': set(), 'H2': {1, 4, 6, 7}, 'H3': {4, 7}, 'H4': set(), 'H5': {4, 5, 7}, 'H6': set(), 'H7': {1, 7}, 'H8': {1, 4, 6, 7}, 'H9': set(), 'I1': {4, 6}, 'I2': {9, 4, 6, 7}, 'I3': set(), 'I4': {4}, 'I5': set(), 'I6': {4, 7}, 'I7': set(), 'I8': {2, 4, 6, 7, 8}, 'I9': {2, 4, 6, 7}}\n"
     ]
    }
   ],
   "source": [
    "for key in board.keys():\n",
    "    val = board[key]\n",
    "    box = get_box(key)\n",
    "    if box_to_vals.get(box):\n",
    "        box_to_vals[box].append(val)\n",
    "    else:\n",
    "        box_to_vals[box] = [val]\n",
    "\n",
    "\n",
    "moveset = {coord:set(all_legal_vals(coord, board)) for coord, val in board.items()}\n",
    "print(to_np(board))\n",
    "#solve_mrv(board)\n",
    "print(moveset)\n"
   ]
  },
  {
   "cell_type": "code",
   "execution_count": null,
   "metadata": {
    "jupyter": {
     "source_hidden": true
    }
   },
   "outputs": [],
   "source": [
    "\n",
    "run = False\n",
    "\n",
    "if run:\n",
    "    for idx, board in tqdm(enumerate(sudokus[:2])):\n",
    "        #Reset pertinent globals:\n",
    "        box_to_vals = dict()\n",
    "\n",
    "        #board = sudokus[16]\n",
    "\n",
    "        #Prep grid reference:\n",
    "        for key in board.keys():\n",
    "            val = board[key]\n",
    "            box = get_box(key)\n",
    "            if box_to_vals.get(box):\n",
    "                box_to_vals[box].append(val)\n",
    "            else:\n",
    "                box_to_vals[box] = [val]\n",
    "\n",
    "        start = time.time()\n",
    "        solution = solve_mrv(board)\n",
    "        end = time.time()\n",
    "\n",
    "        time_to_solve = end-start\n",
    "\n",
    "        solution_data[idx] = {'solution':solution, 'time':time_to_solve}\n",
    "\n",
    "        if solution:\n",
    "            print(to_np(solution))\n",
    "        else:\n",
    "            print('No solution found.')\n",
    "\n",
    "        print(f'{(time_to_solve)} sec')\n"
   ]
  },
  {
   "cell_type": "code",
   "execution_count": 49,
   "metadata": {},
   "outputs": [],
   "source": [
    "'''\n",
    "Experiments in vectorization (np)\n",
    "'''\n",
    "\n",
    "\n",
    "'''def get_box(key):\n",
    "    #Implement this.\n",
    "    \n",
    "    for r_idx, r in enumerate(ROW):\n",
    "        for c_idx, c in enumerate(COL):\n",
    "            if (key[0] == r) and (key[-1] == c):    \n",
    "                return boxes[r_idx][c_idx]\n",
    "            '''\n",
    "            \n",
    "def check_cols_np(n, col, board):\n",
    "    return (not np.any(board[:,col]==n))"
   ]
  },
  {
   "cell_type": "code",
   "execution_count": null,
   "metadata": {},
   "outputs": [],
   "source": []
  },
  {
   "cell_type": "code",
   "execution_count": null,
   "metadata": {},
   "outputs": [],
   "source": []
  },
  {
   "cell_type": "code",
   "execution_count": null,
   "metadata": {},
   "outputs": [],
   "source": []
  }
 ],
 "metadata": {
  "kernelspec": {
   "display_name": "Python 3",
   "language": "python",
   "name": "python3"
  },
  "language_info": {
   "codemirror_mode": {
    "name": "ipython",
    "version": 3
   },
   "file_extension": ".py",
   "mimetype": "text/x-python",
   "name": "python",
   "nbconvert_exporter": "python",
   "pygments_lexer": "ipython3",
   "version": "3.7.3"
  }
 },
 "nbformat": 4,
 "nbformat_minor": 4
}
